{
  "nbformat": 4,
  "nbformat_minor": 0,
  "metadata": {
    "colab": {
      "provenance": [],
      "authorship_tag": "ABX9TyPXu3Of20nKYKa4obPSVZWR",
      "include_colab_link": true
    },
    "kernelspec": {
      "name": "python3",
      "display_name": "Python 3"
    },
    "language_info": {
      "name": "python"
    }
  },
  "cells": [
    {
      "cell_type": "markdown",
      "metadata": {
        "id": "view-in-github",
        "colab_type": "text"
      },
      "source": [
        "<a href=\"https://colab.research.google.com/github/frcaulia/machine_learning/blob/main/Module_4.ipynb\" target=\"_parent\"><img src=\"https://colab.research.google.com/assets/colab-badge.svg\" alt=\"Open In Colab\"/></a>"
      ]
    },
    {
      "cell_type": "markdown",
      "source": [
        "# **Faricha Aulia ( 2141720155 )**\n",
        "Machine Learning Course : Module 4 Lab Work Assignment\n",
        "\n",
        "---"
      ],
      "metadata": {
        "id": "VxNHe8kl61Gm"
      }
    },
    {
      "cell_type": "markdown",
      "source": [
        "### **1. Create a classification model using SVM for the voice.csv data.**"
      ],
      "metadata": {
        "id": "2T-NGQhF67_v"
      }
    },
    {
      "cell_type": "markdown",
      "source": [
        "### **2. Create a Multinomial Naive Bayes classification model with the following conditions:**"
      ],
      "metadata": {
        "id": "b5i0YJlq7Dkn"
      }
    },
    {
      "cell_type": "markdown",
      "source": [
        "#### **a. Use the spam.csv data.**"
      ],
      "metadata": {
        "id": "MwndgmW47N69"
      }
    },
    {
      "cell_type": "markdown",
      "source": [
        "#### **b. Utilize CountVectorizer with stop words enabled.**"
      ],
      "metadata": {
        "id": "qcxyRi8M7SqS"
      }
    },
    {
      "cell_type": "markdown",
      "source": [
        "#### **c. Evaluate the results.**"
      ],
      "metadata": {
        "id": "O-x1pbku7TJ7"
      }
    },
    {
      "cell_type": "markdown",
      "source": [
        "### **3. Create another Multinomial Naive Bayes classification model with the following conditions:**"
      ],
      "metadata": {
        "id": "uLRMsyLo7Fpd"
      }
    },
    {
      "cell_type": "markdown",
      "source": [
        "#### **a. Use the spam.csv data.**"
      ],
      "metadata": {
        "id": "7T7Jy3da7HcG"
      }
    },
    {
      "cell_type": "markdown",
      "source": [
        "#### **b. Employ TF-IDF features with stop words enabled.**"
      ],
      "metadata": {
        "id": "Dp8DSSL_7VH1"
      }
    },
    {
      "cell_type": "markdown",
      "source": [
        "#### **c. Evaluate the results and compare them with the results from Task #2.**"
      ],
      "metadata": {
        "id": "EMeewApB7V4p"
      }
    },
    {
      "cell_type": "markdown",
      "source": [
        "#### **d. Provide a conclusion on which feature extraction method is best for the spam.csv dataset.**"
      ],
      "metadata": {
        "id": "Yo0H0X7k7Wkf"
      }
    }
  ]
}