{
  "nbformat": 4,
  "nbformat_minor": 0,
  "metadata": {
    "colab": {
      "provenance": [],
      "authorship_tag": "ABX9TyND5BNQWl2x6HMn5AWxGVfj",
      "include_colab_link": true
    },
    "kernelspec": {
      "name": "python3",
      "display_name": "Python 3"
    },
    "language_info": {
      "name": "python"
    }
  },
  "cells": [
    {
      "cell_type": "markdown",
      "metadata": {
        "id": "view-in-github",
        "colab_type": "text"
      },
      "source": [
        "<a href=\"https://colab.research.google.com/github/frcaulia/machine_learning/blob/main/Module_4.ipynb\" target=\"_parent\"><img src=\"https://colab.research.google.com/assets/colab-badge.svg\" alt=\"Open In Colab\"/></a>"
      ]
    },
    {
      "cell_type": "markdown",
      "source": [
        "# **Faricha Aulia ( 2141720155 )**\n",
        "Machine Learning Course : Module 4 Lab Work Assignment\n",
        "\n",
        "---"
      ],
      "metadata": {
        "id": "VxNHe8kl61Gm"
      }
    },
    {
      "cell_type": "markdown",
      "source": [
        "### **1. Create a classification model using SVM for the voice.csv data.**"
      ],
      "metadata": {
        "id": "2T-NGQhF67_v"
      }
    },
    {
      "cell_type": "code",
      "source": [
        "import numpy as np\n",
        "import pandas as pd\n",
        "import matplotlib.pyplot as plt\n",
        "from sklearn.model_selection import train_test_split\n",
        "from sklearn.preprocessing import LabelEncoder\n",
        "from sklearn.svm import SVC\n",
        "from sklearn.metrics import accuracy_score, classification_report, confusion_matrix"
      ],
      "metadata": {
        "id": "Hbm2Dy1OK6oE"
      },
      "execution_count": 20,
      "outputs": []
    },
    {
      "cell_type": "code",
      "source": [
        "# Load the dataset\n",
        "data = pd.read_csv('JS4-LW-Assignment-Voice.csv')\n",
        "\n",
        "# Split the data into features (X) and labels (y)\n",
        "X = data.drop('label', axis=1)\n",
        "y = data['label']\n",
        "\n",
        "# Encode the labels to numerical values if needed (assuming labels are strings)\n",
        "label_encoder = LabelEncoder()\n",
        "y = label_encoder.fit_transform(y)\n",
        "\n",
        "# Split the data into training and testing sets\n",
        "X_train, X_test, y_train, y_test = train_test_split(X, y, test_size=0.2, random_state=42)\n"
      ],
      "metadata": {
        "id": "GcNUdHc4LAKe"
      },
      "execution_count": 21,
      "outputs": []
    },
    {
      "cell_type": "code",
      "source": [
        "# Initialize the SVM model with a linear kernel\n",
        "model = SVC(kernel='linear', C=1.0)\n",
        "\n",
        "# Fit the model to the training data\n",
        "model.fit(X_train, y_train)"
      ],
      "metadata": {
        "colab": {
          "base_uri": "https://localhost:8080/",
          "height": 74
        },
        "id": "RX-dMUM6LjBc",
        "outputId": "d5099019-4ab1-4731-9b64-884224cd1a55"
      },
      "execution_count": 22,
      "outputs": [
        {
          "output_type": "execute_result",
          "data": {
            "text/plain": [
              "SVC(kernel='linear')"
            ],
            "text/html": [
              "<style>#sk-container-id-3 {color: black;background-color: white;}#sk-container-id-3 pre{padding: 0;}#sk-container-id-3 div.sk-toggleable {background-color: white;}#sk-container-id-3 label.sk-toggleable__label {cursor: pointer;display: block;width: 100%;margin-bottom: 0;padding: 0.3em;box-sizing: border-box;text-align: center;}#sk-container-id-3 label.sk-toggleable__label-arrow:before {content: \"▸\";float: left;margin-right: 0.25em;color: #696969;}#sk-container-id-3 label.sk-toggleable__label-arrow:hover:before {color: black;}#sk-container-id-3 div.sk-estimator:hover label.sk-toggleable__label-arrow:before {color: black;}#sk-container-id-3 div.sk-toggleable__content {max-height: 0;max-width: 0;overflow: hidden;text-align: left;background-color: #f0f8ff;}#sk-container-id-3 div.sk-toggleable__content pre {margin: 0.2em;color: black;border-radius: 0.25em;background-color: #f0f8ff;}#sk-container-id-3 input.sk-toggleable__control:checked~div.sk-toggleable__content {max-height: 200px;max-width: 100%;overflow: auto;}#sk-container-id-3 input.sk-toggleable__control:checked~label.sk-toggleable__label-arrow:before {content: \"▾\";}#sk-container-id-3 div.sk-estimator input.sk-toggleable__control:checked~label.sk-toggleable__label {background-color: #d4ebff;}#sk-container-id-3 div.sk-label input.sk-toggleable__control:checked~label.sk-toggleable__label {background-color: #d4ebff;}#sk-container-id-3 input.sk-hidden--visually {border: 0;clip: rect(1px 1px 1px 1px);clip: rect(1px, 1px, 1px, 1px);height: 1px;margin: -1px;overflow: hidden;padding: 0;position: absolute;width: 1px;}#sk-container-id-3 div.sk-estimator {font-family: monospace;background-color: #f0f8ff;border: 1px dotted black;border-radius: 0.25em;box-sizing: border-box;margin-bottom: 0.5em;}#sk-container-id-3 div.sk-estimator:hover {background-color: #d4ebff;}#sk-container-id-3 div.sk-parallel-item::after {content: \"\";width: 100%;border-bottom: 1px solid gray;flex-grow: 1;}#sk-container-id-3 div.sk-label:hover label.sk-toggleable__label {background-color: #d4ebff;}#sk-container-id-3 div.sk-serial::before {content: \"\";position: absolute;border-left: 1px solid gray;box-sizing: border-box;top: 0;bottom: 0;left: 50%;z-index: 0;}#sk-container-id-3 div.sk-serial {display: flex;flex-direction: column;align-items: center;background-color: white;padding-right: 0.2em;padding-left: 0.2em;position: relative;}#sk-container-id-3 div.sk-item {position: relative;z-index: 1;}#sk-container-id-3 div.sk-parallel {display: flex;align-items: stretch;justify-content: center;background-color: white;position: relative;}#sk-container-id-3 div.sk-item::before, #sk-container-id-3 div.sk-parallel-item::before {content: \"\";position: absolute;border-left: 1px solid gray;box-sizing: border-box;top: 0;bottom: 0;left: 50%;z-index: -1;}#sk-container-id-3 div.sk-parallel-item {display: flex;flex-direction: column;z-index: 1;position: relative;background-color: white;}#sk-container-id-3 div.sk-parallel-item:first-child::after {align-self: flex-end;width: 50%;}#sk-container-id-3 div.sk-parallel-item:last-child::after {align-self: flex-start;width: 50%;}#sk-container-id-3 div.sk-parallel-item:only-child::after {width: 0;}#sk-container-id-3 div.sk-dashed-wrapped {border: 1px dashed gray;margin: 0 0.4em 0.5em 0.4em;box-sizing: border-box;padding-bottom: 0.4em;background-color: white;}#sk-container-id-3 div.sk-label label {font-family: monospace;font-weight: bold;display: inline-block;line-height: 1.2em;}#sk-container-id-3 div.sk-label-container {text-align: center;}#sk-container-id-3 div.sk-container {/* jupyter's `normalize.less` sets `[hidden] { display: none; }` but bootstrap.min.css set `[hidden] { display: none !important; }` so we also need the `!important` here to be able to override the default hidden behavior on the sphinx rendered scikit-learn.org. See: https://github.com/scikit-learn/scikit-learn/issues/21755 */display: inline-block !important;position: relative;}#sk-container-id-3 div.sk-text-repr-fallback {display: none;}</style><div id=\"sk-container-id-3\" class=\"sk-top-container\"><div class=\"sk-text-repr-fallback\"><pre>SVC(kernel=&#x27;linear&#x27;)</pre><b>In a Jupyter environment, please rerun this cell to show the HTML representation or trust the notebook. <br />On GitHub, the HTML representation is unable to render, please try loading this page with nbviewer.org.</b></div><div class=\"sk-container\" hidden><div class=\"sk-item\"><div class=\"sk-estimator sk-toggleable\"><input class=\"sk-toggleable__control sk-hidden--visually\" id=\"sk-estimator-id-3\" type=\"checkbox\" checked><label for=\"sk-estimator-id-3\" class=\"sk-toggleable__label sk-toggleable__label-arrow\">SVC</label><div class=\"sk-toggleable__content\"><pre>SVC(kernel=&#x27;linear&#x27;)</pre></div></div></div></div></div>"
            ]
          },
          "metadata": {},
          "execution_count": 22
        }
      ]
    },
    {
      "cell_type": "code",
      "source": [
        "# Make predictions on the test set\n",
        "y_pred = model.predict(X_test)\n",
        "\n",
        "# Calculate accuracy\n",
        "accuracy = accuracy_score(y_test, y_pred)\n",
        "print(\"Accuracy:\", accuracy)\n",
        "\n",
        "# Generate a classification report and confusion matrix\n",
        "report = classification_report(y_test, y_pred)\n",
        "confusion = confusion_matrix(y_test, y_pred)\n",
        "\n",
        "print(\"Classification Report:\")\n",
        "print(report)\n",
        "\n",
        "print(\"Confusion Matrix:\")\n",
        "print(confusion)"
      ],
      "metadata": {
        "colab": {
          "base_uri": "https://localhost:8080/"
        },
        "id": "rLtYm2k6Lo9i",
        "outputId": "2380a50e-1cde-4a01-85b4-970a19d15a38"
      },
      "execution_count": 23,
      "outputs": [
        {
          "output_type": "stream",
          "name": "stdout",
          "text": [
            "Accuracy: 0.9416403785488959\n",
            "Classification Report:\n",
            "              precision    recall  f1-score   support\n",
            "\n",
            "           0       0.98      0.89      0.93       297\n",
            "           1       0.91      0.99      0.95       337\n",
            "\n",
            "    accuracy                           0.94       634\n",
            "   macro avg       0.95      0.94      0.94       634\n",
            "weighted avg       0.94      0.94      0.94       634\n",
            "\n",
            "Confusion Matrix:\n",
            "[[265  32]\n",
            " [  5 332]]\n"
          ]
        }
      ]
    },
    {
      "cell_type": "code",
      "source": [
        "import matplotlib.pyplot as plt\n",
        "import numpy as np\n",
        "\n",
        "# Assuming you have a confusion matrix\n",
        "confusion_matrix = np.array([[265, 32],\n",
        "                             [5, 332]])\n",
        "\n",
        "# Create labels for correctly classified and misclassified points\n",
        "true_positives = confusion_matrix[1, 1]\n",
        "true_negatives = confusion_matrix[0, 0]\n",
        "false_positives = confusion_matrix[0, 1]\n",
        "false_negatives = confusion_matrix[1, 0]\n",
        "\n",
        "correct_labels = np.concatenate((np.ones(true_positives), np.zeros(true_negatives)))\n",
        "misclassified_labels = np.concatenate((np.zeros(false_negatives), np.ones(false_positives)))\n",
        "\n",
        "# Generate random x-coordinates for plotting\n",
        "x_correct = np.random.rand(len(correct_labels))\n",
        "x_misclassified = np.random.rand(len(misclassified_labels))\n",
        "\n",
        "# Plot the correctly classified points in one color (e.g., green) and misclassified points in another color (e.g., red)\n",
        "plt.scatter(x_correct, correct_labels, c='green', marker='o', label='Correctly Classified')\n",
        "plt.scatter(x_misclassified, misclassified_labels, c='red', marker='x', label='Misclassified')\n",
        "\n",
        "# Add labels and legend\n",
        "plt.xlabel('Data Points')\n",
        "plt.ylabel('Classification')\n",
        "plt.legend(loc='best')\n",
        "\n",
        "# Show the plot\n",
        "plt.title('Classification Results based on Confusion Matrix')\n",
        "plt.xticks([])  # Remove x-axis ticks\n",
        "plt.yticks([0, 1], ['Negative', 'Positive'])  # Label the y-axis with class names\n",
        "plt.grid(axis='y')  # Add grid lines on the y-axis\n",
        "plt.show()"
      ],
      "metadata": {
        "colab": {
          "base_uri": "https://localhost:8080/",
          "height": 448
        },
        "id": "4757MmvCNDsD",
        "outputId": "640da6a9-0164-4920-8d97-424dd55aa429"
      },
      "execution_count": 24,
      "outputs": [
        {
          "output_type": "display_data",
          "data": {
            "text/plain": [
              "<Figure size 640x480 with 1 Axes>"
            ],
            "image/png": "[encoded data removed]"
          },
          "metadata": {}
        }
      ]
    },
    {
      "cell_type": "markdown",
      "source": [
        "### **2. Create a Multinomial Naive Bayes classification model with the following conditions:**"
      ],
      "metadata": {
        "id": "b5i0YJlq7Dkn"
      }
    },
    {
      "cell_type": "markdown",
      "source": [
        "#### **a. Use the spam.csv data.**"
      ],
      "metadata": {
        "id": "MwndgmW47N69"
      }
    },
    {
      "cell_type": "markdown",
      "source": [
        "#### **b. Utilize CountVectorizer with stop words enabled.**"
      ],
      "metadata": {
        "id": "qcxyRi8M7SqS"
      }
    },
    {
      "cell_type": "markdown",
      "source": [
        "#### **c. Evaluate the results.**"
      ],
      "metadata": {
        "id": "O-x1pbku7TJ7"
      }
    },
    {
      "cell_type": "markdown",
      "source": [
        "### **3. Create another Multinomial Naive Bayes classification model with the following conditions:**"
      ],
      "metadata": {
        "id": "uLRMsyLo7Fpd"
      }
    },
    {
      "cell_type": "markdown",
      "source": [
        "#### **a. Use the spam.csv data.**"
      ],
      "metadata": {
        "id": "7T7Jy3da7HcG"
      }
    },
    {
      "cell_type": "markdown",
      "source": [
        "#### **b. Employ TF-IDF features with stop words enabled.**"
      ],
      "metadata": {
        "id": "Dp8DSSL_7VH1"
      }
    },
    {
      "cell_type": "markdown",
      "source": [
        "#### **c. Evaluate the results and compare them with the results from Task #2.**"
      ],
      "metadata": {
        "id": "EMeewApB7V4p"
      }
    },
    {
      "cell_type": "markdown",
      "source": [
        "#### **d. Provide a conclusion on which feature extraction method is best for the spam.csv dataset.**"
      ],
      "metadata": {
        "id": "Yo0H0X7k7Wkf"
      }
    }
  ]
}