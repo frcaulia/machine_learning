{
  "nbformat": 4,
  "nbformat_minor": 0,
  "metadata": {
    "colab": {
      "provenance": [],
      "authorship_tag": "ABX9TyNhNYb8BHr1eJ7Yjh+niOZU",
      "include_colab_link": true
    },
    "kernelspec": {
      "name": "python3",
      "display_name": "Python 3"
    },
    "language_info": {
      "name": "python"
    }
  },
  "cells": [
    {
      "cell_type": "markdown",
      "metadata": {
        "id": "view-in-github",
        "colab_type": "text"
      },
      "source": [
        "<a href=\"https://colab.research.google.com/github/frcaulia/machine_learning/blob/main/Module_3.ipynb\" target=\"_parent\"><img src=\"https://colab.research.google.com/assets/colab-badge.svg\" alt=\"Open In Colab\"/></a>"
      ]
    },
    {
      "cell_type": "markdown",
      "source": [
        "# **Faricha Aulia ( 2141720155 )**\n",
        "Machine Learning Course : Module 3 Lab Work Assignment\n",
        "\n",
        "---"
      ],
      "metadata": {
        "id": "ko4AofPjbWKF"
      }
    },
    {
      "cell_type": "markdown",
      "source": [
        "**General Instruction**\n",
        "*   You will be using the \"Medical Cost Personal Datasets\" dataset. Make sure you have downloaded this dataset.\n",
        "*   Use the Python programming language and appropriate libraries such as NumPy, Pandas, Matplotlib, and Scikit-Learn to perform regression analysis and SVR."
      ],
      "metadata": {
        "id": "BzVBj_OXbjDd"
      }
    },
    {
      "cell_type": "markdown",
      "source": [
        "### **1. Identify the variables that will be used as independent variables (features) and the target variable (personal medical costs).**"
      ],
      "metadata": {
        "id": "t-D13-06buLS"
      }
    },
    {
      "cell_type": "code",
      "source": [],
      "metadata": {
        "id": "wykDD9cScYbE"
      },
      "execution_count": null,
      "outputs": []
    },
    {
      "cell_type": "markdown",
      "source": [
        "### **2. Split the dataset into training (train) and testing (test) data with an appropriate proportion**"
      ],
      "metadata": {
        "id": "KQbDjk7Fb6Av"
      }
    },
    {
      "cell_type": "code",
      "source": [],
      "metadata": {
        "id": "j8JI4MQhcYv0"
      },
      "execution_count": null,
      "outputs": []
    },
    {
      "cell_type": "markdown",
      "source": [
        "### **3. Perform feature scaling if necessary**"
      ],
      "metadata": {
        "id": "XJIU8Q7Tb6xf"
      }
    },
    {
      "cell_type": "code",
      "source": [],
      "metadata": {
        "id": "jASCXrXMcZXY"
      },
      "execution_count": null,
      "outputs": []
    },
    {
      "cell_type": "markdown",
      "source": [
        "### **4. Create a multiple linear regression model using Scikit-Learn**"
      ],
      "metadata": {
        "id": "nTjPEGDeb7ZT"
      }
    },
    {
      "cell_type": "code",
      "source": [],
      "metadata": {
        "id": "mG-EbdEfcZxQ"
      },
      "execution_count": null,
      "outputs": []
    },
    {
      "cell_type": "markdown",
      "source": [
        "### **5. Train the model on the training data and make predictions on the testing data.**"
      ],
      "metadata": {
        "id": "ZUB9Fddsb7xN"
      }
    },
    {
      "cell_type": "code",
      "source": [],
      "metadata": {
        "id": "YpAKFCavcagr"
      },
      "execution_count": null,
      "outputs": []
    },
    {
      "cell_type": "markdown",
      "source": [
        "### **6. Evaluate the model by calculating metrics such as R-squared, MSE, and MAE. Display the evaluation results.**"
      ],
      "metadata": {
        "id": "aKOwZCwrcQWn"
      }
    },
    {
      "cell_type": "code",
      "source": [],
      "metadata": {
        "id": "jY11tXw7ca4i"
      },
      "execution_count": null,
      "outputs": []
    }
  ]
}